{
 "cells": [
  {
   "cell_type": "code",
   "execution_count": null,
   "metadata": {},
   "outputs": [],
   "source": [
    "\n",
    "import torch\n",
    "from transformers import GPT2Tokenizer, GPT2Model, GPT2PreTrainedModel, AdamW\n",
    "from torch import nn\n",
    "from sklearn.metrics import accuracy_score\n",
    "from datasets import load_dataset\n",
    "from torch.utils.data import DataLoader , TensorDataset, Dataset\n",
    "import numpy as np\n",
    "\n",
    "device = torch.device(\"cuda\" if torch.cuda.is_available() else \"cpu\")\n",
    "\n",
    "\n",
    "# Define MLP to setup on top of GPT2\n",
    "\n",
    "class TextMLP(nn.Module):\n",
    "    def __init__(self, input_dim, hidden_dim, output_dim,  linear = False):\n",
    "        super(TextMLP, self).__init__()\n",
    "\n",
    "        if linear != True: \n",
    "            self.seq = nn.Sequential(\n",
    "                nn.Linear(input_dim, hidden_dim),\n",
    "                nn.ReLU(),\n",
    "                nn.Linear(hidden_dim, output_dim)\n",
    "            )\n",
    "\n",
    "        else:\n",
    "            self.seq = nn.Sequential(\n",
    "                nn.Linear(input_dim, output_dim),\n",
    "            )\n",
    "\n",
    "    def forward(self, x):\n",
    "        return self.seq(x)\n",
    "\n",
    "\n",
    "\n",
    "def get_imdb_dataset():\n",
    "\n",
    "    dataset = load_dataset('imdb', split=['train', 'test'])\n",
    "    return dataset[0], dataset[1] # train_dataset, test_dataset\n",
    "\n",
    "def createDataloader(encoder_dataset):\n",
    "    labels = torch.tensor(encoder_dataset['label'])\n",
    "\n",
    "    tensor_ids = torch.tensor(encoder_dataset['input_ids'])\n",
    "    tensor_att = torch.tensor(encoder_dataset['attention_mask'])\n",
    "    data = torch.cat([tensor_ids, tensor_att], dim = 1).to(torch.long)\n",
    "\n",
    "    dataset_ = TensorDataset(data , labels)\n",
    "    \n",
    "    return DataLoader(dataset_, batch_size = 32)\n",
    "\n",
    "train_data, test_data = get_imdb_dataset()\n",
    "\n",
    "# Load GPT-2 tokenizer\n",
    "tokenizer = GPT2Tokenizer.from_pretrained('gpt2')\n",
    "tokenizer.pad_token = tokenizer.eos_token\n",
    "\n",
    "\n",
    "\n",
    "# Encode the dataset\n",
    "#encoded_dataset_train = train_data.map(lambda data: tokenizer(data['text'], truncation=True, padding='max_length', return_tensors=\"pt\"))\n",
    "#encoded_dataset_test = test_data.map(lambda data: tokenizer(data['text'], truncation=True, padding='max_length'), batched=True)\n",
    "\n",
    "   \n"
   ]
  },
  {
   "cell_type": "code",
   "execution_count": null,
   "metadata": {},
   "outputs": [
    {
     "name": "stdout",
     "output_type": "stream",
     "text": [
      "9\n"
     ]
    }
   ],
   "source": [
    "print(train_data[0])"
   ]
  },
  {
   "cell_type": "code",
   "execution_count": null,
   "metadata": {},
   "outputs": [],
   "source": [
    "encoded_dataset_train[0]"
   ]
  },
  {
   "cell_type": "code",
   "execution_count": null,
   "metadata": {},
   "outputs": [],
   "source": [
    "\n",
    "# Load the GPT-2 model and Freeze GPT-2 parameters\n",
    "gpt2_model = GPT2Model.from_pretrained(\"gpt2\")\n",
    "\n",
    "for param in gpt2_model.parameters():\n",
    "    param.requires_grad = False\n",
    "\n",
    "advtestloader = createDataloader(encoded_dataset_train)\n",
    "\n",
    "a, l = next(iter(advtestloader))\n",
    "a = a.to(device)\n",
    "gpt2_model = gpt2_model.to(device)\n",
    "\n",
    "with torch.no_grad():\n",
    "    o = gpt2_model(input_ids = a[:,0,:],attention_mask = a[:,1,:])"
   ]
  }
 ],
 "metadata": {
  "kernelspec": {
   "display_name": "env",
   "language": "python",
   "name": "python3"
  },
  "language_info": {
   "codemirror_mode": {
    "name": "ipython",
    "version": 3
   },
   "file_extension": ".py",
   "mimetype": "text/x-python",
   "name": "python",
   "nbconvert_exporter": "python",
   "pygments_lexer": "ipython3",
   "version": "3.10.11"
  },
  "orig_nbformat": 4
 },
 "nbformat": 4,
 "nbformat_minor": 2
}
